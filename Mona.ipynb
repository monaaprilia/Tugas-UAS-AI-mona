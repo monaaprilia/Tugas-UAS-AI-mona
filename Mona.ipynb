{
 "cells": [
  {
   "cell_type": "code",
   "execution_count": null,
   "metadata": {},
   "outputs": [],
   "source": [
    "#!/usr/bin/python\n",
    "\n",
    "Import numpy as np\n",
    "\n",
    "Def sigmoid(x):\n",
    "\tReturn 1.0/(1.0 + np.exp(-x))\n",
    "\n",
    "Def sigmoid_der(x):\n",
    "\tReturn x*(1.0 – x)\n",
    "\n",
    "Class NN:\n",
    "    Def __init__(self, inputs):\n",
    "        Self.inputs = inputs\n",
    "        Self.l=len(self.inputs)\n",
    "        Self.li=len(self.inputs[0])\n",
    "\n",
    "        Self.wi=np.random.random((self.li, self.l))\n",
    "        Self.wh=np.random.random((self.l, 1))\n",
    "\n",
    "    Def think(self, inp):\n",
    "        S1=sigmoid(np.dot(inp, self.wi))\n",
    "        S2=sigmoid(np.dot(s1, self.wh))\n",
    "        Return s2\n",
    "\n",
    "    Def train(self, inputs,outputs, it):\n",
    "        For I in range(it):\n",
    "            L0=inputs\n",
    "            L1=sigmoid(np.dot(l0, self.wi))\n",
    "            L2=sigmoid(np.dot(l1, self.wh))\n",
    "\n",
    "            L2_err=outputs – l2\n",
    "            L2_delta = np.multiply(l2_err, sigmoid_der(l2))\n",
    "\n",
    "            L1_err=np.dot(l2_delta, self.wh.T)\n",
    "            L1_delta=np.multiply(l1_err, sigmoid_der(l1))\n",
    "\n",
    "            Self.wh+=np.dot(l1.T, l2_delta)\n",
    "            Self.wi+=np.dot(l0.T, l1_delta)\n",
    "\n",
    "Inputs=np.array([[1,1], [0,0], [1,0], [0,1] ])\n",
    "Outputs=np.array([ [0], [0],[0],[1] ])\n",
    "\n",
    "N=NN(inputs)\n",
    "Print(n.think(inputs))\n",
    "n.train(inputs, outputs, 10000)\n",
    "print(n.think(inputs))\n"
   ]
  },
  {
   "cell_type": "code",
   "execution_count": null,
   "metadata": {},
   "outputs": [],
   "source": []
  }
 ],
 "metadata": {
  "kernelspec": {
   "display_name": "Python 3",
   "language": "python",
   "name": "python3"
  },
  "language_info": {
   "codemirror_mode": {
    "name": "ipython",
    "version": 3
   },
   "file_extension": ".py",
   "mimetype": "text/x-python",
   "name": "python",
   "nbconvert_exporter": "python",
   "pygments_lexer": "ipython3",
   "version": "3.8.5"
  }
 },
 "nbformat": 4,
 "nbformat_minor": 4
}
